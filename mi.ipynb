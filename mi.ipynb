{
 "cells": [
  {
   "cell_type": "markdown",
   "metadata": {},
   "source": [
    "## Explore the data set"
   ]
  },
  {
   "cell_type": "code",
   "execution_count": 67,
   "metadata": {},
   "outputs": [
    {
     "name": "stdout",
     "output_type": "stream",
     "text": [
      "dict_keys(['data', 'target', 'target_names', 'DESCR', 'feature_names', 'filename'])\n"
     ]
    }
   ],
   "source": [
    "from sklearn.datasets import load_breast_cancer\n",
    "from sklearn.linear_model import LogisticRegression\n",
    "from sklearn import metrics\n",
    "from sklearn.model_selection import train_test_split\n",
    "from matplotlib import pyplot\n",
    "\n",
    "# Load breast cancer data\n",
    "cancer = load_breast_cancer()\n",
    "\n",
    "# Print the keys in the cancer data structure\n",
    "print(cancer.keys())"
   ]
  },
  {
   "cell_type": "markdown",
   "metadata": {},
   "source": [
    "## Feature Names"
   ]
  },
  {
   "cell_type": "code",
   "execution_count": 3,
   "metadata": {},
   "outputs": [
    {
     "name": "stdout",
     "output_type": "stream",
     "text": [
      "There are 30 feature_names\n",
      "\n",
      "['mean radius' 'mean texture' 'mean perimeter' 'mean area'\n",
      " 'mean smoothness' 'mean compactness' 'mean concavity'\n",
      " 'mean concave points' 'mean symmetry' 'mean fractal dimension'\n",
      " 'radius error' 'texture error' 'perimeter error' 'area error'\n",
      " 'smoothness error' 'compactness error' 'concavity error'\n",
      " 'concave points error' 'symmetry error' 'fractal dimension error'\n",
      " 'worst radius' 'worst texture' 'worst perimeter' 'worst area'\n",
      " 'worst smoothness' 'worst compactness' 'worst concavity'\n",
      " 'worst concave points' 'worst symmetry' 'worst fractal dimension']\n"
     ]
    }
   ],
   "source": [
    "# Get count of feature_names\n",
    "count = len(cancer.feature_names)\n",
    "print(f'There are {count} feature_names\\n')\n",
    "\n",
    "# Display feature_names\n",
    "print(cancer.feature_names)"
   ]
  },
  {
   "cell_type": "markdown",
   "metadata": {},
   "source": [
    "## Class Names"
   ]
  },
  {
   "cell_type": "code",
   "execution_count": 4,
   "metadata": {},
   "outputs": [
    {
     "name": "stdout",
     "output_type": "stream",
     "text": [
      "['malignant' 'benign']\n"
     ]
    }
   ],
   "source": [
    "# Print the two classes of data\n",
    "print(cancer.target_names)"
   ]
  },
  {
   "cell_type": "markdown",
   "metadata": {},
   "source": [
    "## Target Values"
   ]
  },
  {
   "cell_type": "code",
   "execution_count": 27,
   "metadata": {},
   "outputs": [
    {
     "name": "stdout",
     "output_type": "stream",
     "text": [
      "There are 212 malignant records\n",
      "\n",
      "There are 357 benign records\n",
      "\n",
      "[0 0 0 0 0 0 0 0 0 0 0 0 0 0 0 0 0 0 0 1 1 1 0 0 0 0 0 0 0 0 0 0 0 0 0 0 0\n",
      " 1 0 0 0 0 0 0 0 0 1 0 1 1 1 1 1 0 0 1 0 0 1 1 1 1 0 1 0 0 1 1 1 1 0 1 0 0\n",
      " 1 0 1 0 0 1 1 1 0 0 1 0 0 0 1 1 1 0 1 1 0 0 1 1 1 0 0 1 1 1 1 0 1 1 0 1 1\n",
      " 1 1 1 1 1 1 0 0 0 1 0 0 1 1 1 0 0 1 0 1 0 0 1 0 0 1 1 0 1 1 0 1 1 1 1 0 1\n",
      " 1 1 1 1 1 1 1 1 0 1 1 1 1 0 0 1 0 1 1 0 0 1 1 0 0 1 1 1 1 0 1 1 0 0 0 1 0\n",
      " 1 0 1 1 1 0 1 1 0 0 1 0 0 0 0 1 0 0 0 1 0 1 0 1 1 0 1 0 0 0 0 1 1 0 0 1 1\n",
      " 1 0 1 1 1 1 1 0 0 1 1 0 1 1 0 0 1 0 1 1 1 1 0 1 1 1 1 1 0 1 0 0 0 0 0 0 0\n",
      " 0 0 0 0 0 0 0 1 1 1 1 1 1 0 1 0 1 1 0 1 1 0 1 0 0 1 1 1 1 1 1 1 1 1 1 1 1\n",
      " 1 0 1 1 0 1 0 1 1 1 1 1 1 1 1 1 1 1 1 1 1 0 1 1 1 0 1 0 1 1 1 1 0 0 0 1 1\n",
      " 1 1 0 1 0 1 0 1 1 1 0 1 1 1 1 1 1 1 0 0 0 1 1 1 1 1 1 1 1 1 1 1 0 0 1 0 0\n",
      " 0 1 0 0 1 1 1 1 1 0 1 1 1 1 1 0 1 1 1 0 1 1 0 0 1 1 1 1 1 1 0 1 1 1 1 1 1\n",
      " 1 0 1 1 1 1 1 0 1 1 0 1 1 1 1 1 1 1 1 1 1 1 1 0 1 0 0 1 0 1 1 1 1 1 0 1 1\n",
      " 0 1 0 1 1 0 1 0 1 1 1 1 1 1 1 1 0 0 1 1 1 1 1 1 0 1 1 1 1 1 1 1 1 1 1 0 1\n",
      " 1 1 1 1 1 1 0 1 0 1 1 0 1 1 1 1 1 0 0 1 0 1 0 1 1 1 1 1 0 1 1 0 1 0 1 0 0\n",
      " 1 1 1 0 1 1 1 1 1 1 1 1 1 1 1 0 1 0 0 1 1 1 1 1 1 1 1 1 1 1 1 1 1 1 1 1 1\n",
      " 1 1 1 1 1 1 1 0 0 0 0 0 0 1]\n"
     ]
    }
   ],
   "source": [
    "# Malignant Count\n",
    "malignant_count = len(cancer.target[cancer.target==0])\n",
    "print(f'There are {malignant_count} malignant records\\n')\n",
    "\n",
    "# Benign Count\n",
    "benign_count = len(cancer.target[cancer.target==1])\n",
    "print(f'There are {benign_count} benign records\\n')\n",
    "\n",
    "# Raw target data\n",
    "print(cancer.target)"
   ]
  },
  {
   "cell_type": "markdown",
   "metadata": {},
   "source": [
    "## Data"
   ]
  },
  {
   "cell_type": "code",
   "execution_count": 5,
   "metadata": {},
   "outputs": [
    {
     "name": "stdout",
     "output_type": "stream",
     "text": [
      "[1.799e+01 1.038e+01 1.228e+02 1.001e+03 1.184e-01 2.776e-01 3.001e-01\n",
      " 1.471e-01 2.419e-01 7.871e-02 1.095e+00 9.053e-01 8.589e+00 1.534e+02\n",
      " 6.399e-03 4.904e-02 5.373e-02 1.587e-02 3.003e-02 6.193e-03 2.538e+01\n",
      " 1.733e+01 1.846e+02 2.019e+03 1.622e-01 6.656e-01 7.119e-01 2.654e-01\n",
      " 4.601e-01 1.189e-01]\n"
     ]
    }
   ],
   "source": [
    "# Print the first record of data\n",
    "data_item_0 = cancer.data[0]\n",
    "print(data_item_0)"
   ]
  },
  {
   "cell_type": "code",
   "execution_count": 15,
   "metadata": {},
   "outputs": [
    {
     "name": "stdout",
     "output_type": "stream",
     "text": [
      "mean radius of data item 0 is 17.99\n",
      "\n",
      "mean texture of data item 0 is 10.38\n",
      "\n",
      "mean perimeter of data item 0 is 122.8\n",
      "\n"
     ]
    }
   ],
   "source": [
    "# Mean Radius\n",
    "mean_radius_name = cancer.feature_names[0]\n",
    "mean_radius = data_item_0[0]\n",
    "print(f'{mean_radius_name} of data item 0 is {mean_radius}\\n')\n",
    "\n",
    "# Mean Texture\n",
    "mean_texture_name = cancer.feature_names[1]\n",
    "mean_texture = data_item_0[1]\n",
    "print(f'{mean_texture_name} of data item 0 is {mean_texture}\\n')\n",
    "\n",
    "# Mean Perimeter\n",
    "mean_perimeter_name = cancer.feature_names[2]\n",
    "mean_perimeter = data_item_0[2]\n",
    "print(f'{mean_perimeter_name} of data item 0 is {mean_perimeter}\\n')"
   ]
  },
  {
   "cell_type": "markdown",
   "metadata": {},
   "source": [
    "## Create Training and Test Data"
   ]
  },
  {
   "cell_type": "code",
   "execution_count": 33,
   "metadata": {},
   "outputs": [
    {
     "name": "stdout",
     "output_type": "stream",
     "text": [
      "Training size is 380 380\n",
      "Testing size is 189 189\n"
     ]
    }
   ],
   "source": [
    "X_train, X_test, y_train, y_test = train_test_split(cancer.data, \n",
    "                                                    cancer.target, \n",
    "                                                    train_size=380, # 2/3\n",
    "                                                    test_size=189,  # 1/3\n",
    "                                                    stratify=cancer.target)\n",
    "\n",
    "print(f'Training size is {len(X_train)} {len(y_train)}')\n",
    "print(f'Testing size is {len(X_test)} {len(y_test)}')\n",
    "\n"
   ]
  },
  {
   "cell_type": "markdown",
   "metadata": {},
   "source": [
    "## Train Classifier"
   ]
  },
  {
   "cell_type": "code",
   "execution_count": 51,
   "metadata": {},
   "outputs": [
    {
     "name": "stdout",
     "output_type": "stream",
     "text": [
      "Accuracy of the training set: 0.963\n",
      "Accuracy of the training set: 0.942\n"
     ]
    }
   ],
   "source": [
    "classifier = LogisticRegression(solver='liblinear')\n",
    "classifier.fit(X_train, y_train)\n",
    "\n",
    "print('Accuracy of the training set: {:.3f}'.format(classifier.score(X_train, y_train)))\n",
    "print('Accuracy of the training set: {:.3f}'.format(classifier.score(X_test, y_test)))"
   ]
  },
  {
   "cell_type": "markdown",
   "metadata": {},
   "source": [
    "## Predict"
   ]
  },
  {
   "cell_type": "code",
   "execution_count": 52,
   "metadata": {},
   "outputs": [
    {
     "name": "stdout",
     "output_type": "stream",
     "text": [
      "Predictions\n",
      "benign: 61\n",
      "malignant: 128\n",
      "\n",
      "Actual\n",
      "benign: 70\n",
      "malignant: 119\n"
     ]
    }
   ],
   "source": [
    "predictions = classifier.predict(X_test)\n",
    "\n",
    "print('Predictions')\n",
    "print(f'benign: {len(predictions[predictions==0])}')\n",
    "print(f'malignant: {len(predictions[predictions==1])}\\n')\n",
    "\n",
    "print('Actual')\n",
    "print(f'benign: {len(y_test[y_test==0])}')\n",
    "print(f'malignant: {len(y_test[y_test==1])}')\n"
   ]
  },
  {
   "cell_type": "markdown",
   "metadata": {},
   "source": [
    "## ROC"
   ]
  },
  {
   "cell_type": "code",
   "execution_count": 64,
   "metadata": {},
   "outputs": [
    {
     "data": {
      "text/plain": [
       "0.9953181272509004"
      ]
     },
     "execution_count": 64,
     "metadata": {},
     "output_type": "execute_result"
    }
   ],
   "source": [
    "result_proba = classifier.predict_proba(X_test)\n",
    "fpr, tpr, threshold = metrics.roc_curve(y_test, result_proba[:, 1])\n",
    "roc_auc = metrics.auc(fpr, tpr)\n",
    "roc_auc"
   ]
  },
  {
   "cell_type": "markdown",
   "metadata": {},
   "source": [
    "## Graph"
   ]
  },
  {
   "cell_type": "code",
   "execution_count": 72,
   "metadata": {},
   "outputs": [
    {
     "data": {
      "image/png": "[encoded data removed]",
      "text/plain": [
       "<matplotlib.figure.Figure at 0x118f05e80>"
      ]
     },
     "metadata": {
      "needs_background": "light"
     },
     "output_type": "display_data"
    }
   ],
   "source": [
    "\n",
    "def optimum_threshold(tpr, fpr, threshold):\n",
    "\n",
    "    values = dict()\n",
    "\n",
    "    for i in range(len(tpr)):\n",
    "        values[tpr[i] + (1-fpr[i])] = {\"tpr\": tpr[i], \"fpr\": fpr[i], \"optimum\": threshold[i]}\n",
    "\n",
    "    sorted_keys = sorted(values.keys(), reverse=True)\n",
    "    best_data = values[sorted_keys[0]]\n",
    "\n",
    "    return {\"fpr\": best_data[\"fpr\"], \"tpr\": best_data[\"tpr\"], \"optimum\": best_data[\"optimum\"]}\n",
    "\n",
    "optimum = optimum_threshold(tpr, fpr, threshold)\n",
    "pyplot.plot(fpr, tpr, lw=2, alpha=1, label='AUC = %0.2f' % roc_auc)\n",
    "\n",
    "# Optimum Threshold\n",
    "pyplot.plot([optimum['fpr']], [optimum['tpr']], marker='o', markersize=10, color='g', label='Optimum Threshold = %0.2f' % optimum[\"optimum\"], alpha=.8)\n",
    "\n",
    "# Chance\n",
    "pyplot.plot([0, 1], [0, 1], linestyle='--', lw=2, color='r', label='Chance', alpha=.8)\n",
    "\n",
    "pyplot.xlabel(\"False Positive Rate\")\n",
    "pyplot.ylabel(\"True Positive Rate\")\n",
    "pyplot.title(f'ROC curve')\n",
    "pyplot.legend()\n",
    "pyplot.grid()\n",
    "pyplot.show()\n"
   ]
  }
 ],
 "metadata": {
  "kernelspec": {
   "display_name": "Python 3",
   "language": "python",
   "name": "python3"
  },
  "language_info": {
   "codemirror_mode": {
    "name": "ipython",
    "version": 3
   },
   "file_extension": ".py",
   "mimetype": "text/x-python",
   "name": "python",
   "nbconvert_exporter": "python",
   "pygments_lexer": "ipython3",
   "version": "3.7.0"
  }
 },
 "nbformat": 4,
 "nbformat_minor": 1
}
