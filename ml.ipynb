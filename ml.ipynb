{
 "cells": [
  {
   "cell_type": "markdown",
   "metadata": {},
   "source": [
    "# Machine Learning Analysis of Breast Cancer Wisconsin Dataset\n",
    "\n",
    "This is a well trodden path.  There are lots of online articles that analyse this built in SciKit dataset, but it is easy to access and provides interesting results.\n",
    "\n",
    "## Load the Data\n",
    "\n",
    "Load the data and view the keys.  This is a Python dictionary structure."
   ]
  },
  {
   "cell_type": "code",
   "execution_count": 1,
   "metadata": {},
   "outputs": [
    {
     "name": "stdout",
     "output_type": "stream",
     "text": [
      "dict_keys(['data', 'target', 'target_names', 'DESCR', 'feature_names', 'filename'])\n"
     ]
    }
   ],
   "source": [
    "from sklearn.datasets import load_breast_cancer\n",
    "from sklearn.tree import DecisionTreeClassifier\n",
    "from sklearn import metrics\n",
    "from sklearn.model_selection import train_test_split\n",
    "from matplotlib import pyplot\n",
    "\n",
    "# Load breast cancer data\n",
    "cancer = load_breast_cancer()\n",
    "\n",
    "# Print the keys in the cancer data structure\n",
    "print(cancer.keys())"
   ]
  },
  {
   "cell_type": "markdown",
   "metadata": {},
   "source": [
    "## Feature Names\n",
    "\n",
    "Read the 30 feature names in the dataset."
   ]
  },
  {
   "cell_type": "code",
   "execution_count": 2,
   "metadata": {},
   "outputs": [
    {
     "name": "stdout",
     "output_type": "stream",
     "text": [
      "There are 30 feature_names\n",
      "\n",
      "['mean radius' 'mean texture' 'mean perimeter' 'mean area'\n",
      " 'mean smoothness' 'mean compactness' 'mean concavity'\n",
      " 'mean concave points' 'mean symmetry' 'mean fractal dimension'\n",
      " 'radius error' 'texture error' 'perimeter error' 'area error'\n",
      " 'smoothness error' 'compactness error' 'concavity error'\n",
      " 'concave points error' 'symmetry error' 'fractal dimension error'\n",
      " 'worst radius' 'worst texture' 'worst perimeter' 'worst area'\n",
      " 'worst smoothness' 'worst compactness' 'worst concavity'\n",
      " 'worst concave points' 'worst symmetry' 'worst fractal dimension']\n"
     ]
    }
   ],
   "source": [
    "# Get count of feature_names\n",
    "count = len(cancer.feature_names)\n",
    "print(f'There are {count} feature_names\\n')\n",
    "\n",
    "# Display feature_names\n",
    "print(cancer.feature_names)"
   ]
  },
  {
   "cell_type": "markdown",
   "metadata": {},
   "source": [
    "## Class Names\n",
    "\n",
    "There are two classes in this dataset, malignant and benign."
   ]
  },
  {
   "cell_type": "code",
   "execution_count": 3,
   "metadata": {},
   "outputs": [
    {
     "name": "stdout",
     "output_type": "stream",
     "text": [
      "['malignant' 'benign']\n"
     ]
    }
   ],
   "source": [
    "# Print the two classes of data\n",
    "print(cancer.target_names)"
   ]
  },
  {
   "cell_type": "markdown",
   "metadata": {},
   "source": [
    "## Target Values\n",
    "\n",
    "Target values or labels detail the values that should be output.  In this dataset a 0 signifies a malignant output value and 1 signifies a benign output value.  This means that the first data item in the data is malignant as the first entry in the target list is 0.\n",
    "\n",
    "0 -> Mailignant  \n",
    "1 -> Benign"
   ]
  },
  {
   "cell_type": "code",
   "execution_count": 4,
   "metadata": {},
   "outputs": [
    {
     "name": "stdout",
     "output_type": "stream",
     "text": [
      "There are 212 malignant records\n",
      "\n",
      "There are 357 benign records\n",
      "\n",
      "There are 569 records in total\n",
      "\n",
      "[0 0 0 0 0 0 0 0 0 0 0 0 0 0 0 0 0 0 0 1 1 1 0 0 0 0 0 0 0 0 0 0 0 0 0 0 0\n",
      " 1 0 0 0 0 0 0 0 0 1 0 1 1 1 1 1 0 0 1 0 0 1 1 1 1 0 1 0 0 1 1 1 1 0 1 0 0\n",
      " 1 0 1 0 0 1 1 1 0 0 1 0 0 0 1 1 1 0 1 1 0 0 1 1 1 0 0 1 1 1 1 0 1 1 0 1 1\n",
      " 1 1 1 1 1 1 0 0 0 1 0 0 1 1 1 0 0 1 0 1 0 0 1 0 0 1 1 0 1 1 0 1 1 1 1 0 1\n",
      " 1 1 1 1 1 1 1 1 0 1 1 1 1 0 0 1 0 1 1 0 0 1 1 0 0 1 1 1 1 0 1 1 0 0 0 1 0\n",
      " 1 0 1 1 1 0 1 1 0 0 1 0 0 0 0 1 0 0 0 1 0 1 0 1 1 0 1 0 0 0 0 1 1 0 0 1 1\n",
      " 1 0 1 1 1 1 1 0 0 1 1 0 1 1 0 0 1 0 1 1 1 1 0 1 1 1 1 1 0 1 0 0 0 0 0 0 0\n",
      " 0 0 0 0 0 0 0 1 1 1 1 1 1 0 1 0 1 1 0 1 1 0 1 0 0 1 1 1 1 1 1 1 1 1 1 1 1\n",
      " 1 0 1 1 0 1 0 1 1 1 1 1 1 1 1 1 1 1 1 1 1 0 1 1 1 0 1 0 1 1 1 1 0 0 0 1 1\n",
      " 1 1 0 1 0 1 0 1 1 1 0 1 1 1 1 1 1 1 0 0 0 1 1 1 1 1 1 1 1 1 1 1 0 0 1 0 0\n",
      " 0 1 0 0 1 1 1 1 1 0 1 1 1 1 1 0 1 1 1 0 1 1 0 0 1 1 1 1 1 1 0 1 1 1 1 1 1\n",
      " 1 0 1 1 1 1 1 0 1 1 0 1 1 1 1 1 1 1 1 1 1 1 1 0 1 0 0 1 0 1 1 1 1 1 0 1 1\n",
      " 0 1 0 1 1 0 1 0 1 1 1 1 1 1 1 1 0 0 1 1 1 1 1 1 0 1 1 1 1 1 1 1 1 1 1 0 1\n",
      " 1 1 1 1 1 1 0 1 0 1 1 0 1 1 1 1 1 0 0 1 0 1 0 1 1 1 1 1 0 1 1 0 1 0 1 0 0\n",
      " 1 1 1 0 1 1 1 1 1 1 1 1 1 1 1 0 1 0 0 1 1 1 1 1 1 1 1 1 1 1 1 1 1 1 1 1 1\n",
      " 1 1 1 1 1 1 1 0 0 0 0 0 0 1]\n"
     ]
    }
   ],
   "source": [
    "# Malignant Count\n",
    "malignant_count = len(cancer.target[cancer.target==0])\n",
    "print(f'There are {malignant_count} malignant records\\n')\n",
    "\n",
    "# Benign Count\n",
    "benign_count = len(cancer.target[cancer.target==1])\n",
    "print(f'There are {benign_count} benign records\\n')\n",
    "\n",
    "# Total Count\n",
    "print(f'There are {malignant_count + benign_count} records in total\\n')\n",
    "\n",
    "# Raw target data\n",
    "print(cancer.target)"
   ]
  },
  {
   "cell_type": "markdown",
   "metadata": {},
   "source": [
    "## Data\n",
    "\n",
    "Each item in the data list is a further list containing the feature values.  The feature values are in the same order as the feature names."
   ]
  },
  {
   "cell_type": "code",
   "execution_count": 5,
   "metadata": {},
   "outputs": [
    {
     "name": "stdout",
     "output_type": "stream",
     "text": [
      "[1.799e+01 1.038e+01 1.228e+02 1.001e+03 1.184e-01 2.776e-01 3.001e-01\n",
      " 1.471e-01 2.419e-01 7.871e-02 1.095e+00 9.053e-01 8.589e+00 1.534e+02\n",
      " 6.399e-03 4.904e-02 5.373e-02 1.587e-02 3.003e-02 6.193e-03 2.538e+01\n",
      " 1.733e+01 1.846e+02 2.019e+03 1.622e-01 6.656e-01 7.119e-01 2.654e-01\n",
      " 4.601e-01 1.189e-01]\n"
     ]
    }
   ],
   "source": [
    "# Print the first record of data\n",
    "data_item_0 = cancer.data[0]\n",
    "print(data_item_0)"
   ]
  },
  {
   "cell_type": "code",
   "execution_count": 6,
   "metadata": {},
   "outputs": [
    {
     "name": "stdout",
     "output_type": "stream",
     "text": [
      "mean radius of data item 0 is 17.99\n",
      "\n",
      "mean texture of data item 0 is 10.38\n",
      "\n",
      "mean perimeter of data item 0 is 122.8\n",
      "\n"
     ]
    }
   ],
   "source": [
    "# Mean Radius\n",
    "mean_radius_name = cancer.feature_names[0]\n",
    "mean_radius = data_item_0[0]\n",
    "print(f'{mean_radius_name} of data item 0 is {mean_radius}\\n')\n",
    "\n",
    "# Mean Texture\n",
    "mean_texture_name = cancer.feature_names[1]\n",
    "mean_texture = data_item_0[1]\n",
    "print(f'{mean_texture_name} of data item 0 is {mean_texture}\\n')\n",
    "\n",
    "# Mean Perimeter\n",
    "mean_perimeter_name = cancer.feature_names[2]\n",
    "mean_perimeter = data_item_0[2]\n",
    "print(f'{mean_perimeter_name} of data item 0 is {mean_perimeter}\\n')"
   ]
  },
  {
   "cell_type": "markdown",
   "metadata": {},
   "source": [
    "## Allocate Training and Test Data\n",
    "\n",
    "We use 2/3 of our data to train the classifier and we use 1/3 of our data to test our classifier.  \n",
    "\n",
    "Variables begining with X are feature based data.  \n",
    "Variables begining with y are target based data."
   ]
  },
  {
   "cell_type": "code",
   "execution_count": 7,
   "metadata": {},
   "outputs": [
    {
     "name": "stdout",
     "output_type": "stream",
     "text": [
      "X_train - Feature based training data\n",
      "[[1.220e+01 1.521e+01 7.801e+01 ... 5.556e-02 2.661e-01 7.961e-02]\n",
      " [1.578e+01 2.291e+01 1.057e+02 ... 2.034e-01 3.274e-01 1.252e-01]\n",
      " [1.504e+01 1.674e+01 9.873e+01 ... 1.018e-01 2.177e-01 8.549e-02]\n",
      " ...\n",
      " [1.057e+01 1.832e+01 6.682e+01 ... 2.222e-02 2.699e-01 6.736e-02]\n",
      " [1.300e+01 2.182e+01 8.750e+01 ... 2.060e-01 4.378e-01 1.072e-01]\n",
      " [9.333e+00 2.194e+01 5.901e+01 ... 2.564e-02 2.435e-01 7.393e-02]]\n",
      "\n",
      "X_test - Feature based test data\n",
      "[[1.221e+01 1.802e+01 7.831e+01 ... 8.829e-02 3.218e-01 7.470e-02]\n",
      " [1.057e+01 2.022e+01 7.015e+01 ... 1.465e-01 2.597e-01 1.200e-01]\n",
      " [1.193e+01 2.153e+01 7.653e+01 ... 7.247e-02 2.438e-01 8.541e-02]\n",
      " ...\n",
      " [1.453e+01 1.398e+01 9.386e+01 ... 1.069e-01 2.606e-01 7.810e-02]\n",
      " [1.204e+01 2.814e+01 7.685e+01 ... 5.547e-02 2.404e-01 6.639e-02]\n",
      " [1.195e+01 1.496e+01 7.723e+01 ... 4.766e-02 3.124e-01 7.590e-02]]\n",
      "\n",
      "y_train - Target based training data\n",
      "[1 0 1 1 1 1 0 1 1 1 1 1 0 0 1 1 0 1 1 1 1 1 1 1 1 0 1 1 1 0 0 1 0 1 0 1 0\n",
      " 1 1 0 0 1 1 0 0 1 0 1 0 1 0 0 0 1 1 0 1 1 1 1 1 0 0 0 0 0 0 1 1 0 0 0 0 1\n",
      " 1 1 1 1 1 0 0 0 1 1 1 0 0 1 0 1 0 1 0 1 1 1 0 0 1 0 1 1 1 1 1 0 1 1 1 0 0\n",
      " 0 0 1 1 1 1 0 0 0 1 1 0 0 1 0 1 1 1 1 0 1 0 1 1 1 1 1 1 0 1 0 0 0 1 1 1 1\n",
      " 1 1 1 1 1 0 0 1 0 1 0 1 1 1 0 1 0 0 1 1 1 1 0 1 0 1 1 1 0 1 0 1 1 1 1 1 0\n",
      " 1 1 1 0 1 1 0 1 1 1 0 1 1 0 1 0 1 1 1 1 1 0 1 1 0 1 1 1 0 1 0 1 1 0 0 1 0\n",
      " 0 1 0 0 1 1 1 1 1 1 0 0 1 1 0 1 1 1 0 1 1 0 0 0 1 1 1 0 0 1 1 1 1 1 1 0 1\n",
      " 1 1 0 0 0 0 0 1 0 0 0 1 0 1 1 1 1 1 1 1 1 1 1 1 1 1 1 1 1 0 0 0 0 1 1 0 1\n",
      " 0 1 1 1 0 0 0 1 1 1 1 0 0 0 1 0 0 0 0 1 0 1 1 0 1 1 0 1 0 1 1 1 1 1 1 0 0\n",
      " 1 1 0 1 0 1 1 0 1 1 1 1 1 1 1 0 0 0 0 0 1 0 1 1 1 1 1 1 0 1 0 0 1 0 1 1 1\n",
      " 1 1 1 1 1 1 0 1 0 1]\n",
      "\n",
      "y_test - Target based test data\n",
      "[1 1 1 1 1 1 1 1 1 0 0 1 0 1 0 0 1 0 0 1 0 1 1 1 0 1 0 1 1 0 1 0 1 1 1 1 1\n",
      " 1 1 1 0 0 1 0 1 1 1 1 1 1 1 0 1 0 0 0 0 0 1 0 1 0 0 0 1 0 1 1 0 1 1 0 1 0\n",
      " 0 0 1 1 1 1 1 0 1 1 1 0 0 0 0 1 0 1 0 0 1 0 1 1 0 0 0 0 1 1 1 1 0 1 1 0 1\n",
      " 1 1 0 1 1 0 1 1 1 0 0 0 0 1 1 1 1 1 1 0 0 1 1 1 0 1 0 0 1 1 1 1 1 1 1 1 1\n",
      " 1 1 1 0 0 0 0 1 0 1 1 0 1 0 1 0 1 1 0 0 0 1 1 1 1 1 0 1 1 0 1 1 1 1 1 1 1\n",
      " 1 1 1 1]\n"
     ]
    }
   ],
   "source": [
    "X_train, X_test, y_train, y_test = train_test_split(cancer.data, \n",
    "                                                    cancer.target, \n",
    "                                                    train_size=380, # 2/3\n",
    "                                                    test_size=189,  # 1/3\n",
    "                                                    stratify=cancer.target)\n",
    "\n",
    "print('X_train - Feature based training data')\n",
    "print(X_train)\n",
    "\n",
    "print('\\nX_test - Feature based test data')\n",
    "print(X_test)\n",
    "\n",
    "print('\\ny_train - Target based training data')\n",
    "print(y_train)\n",
    "\n",
    "print('\\ny_test - Target based test data')\n",
    "print(y_test)"
   ]
  },
  {
   "cell_type": "markdown",
   "metadata": {},
   "source": [
    "## Train Classifier\n",
    "\n",
    "Here we train a DecisionTreeClassifier classifier using the training data. Calling fit modifies the classifier object with data specific to the training data set.  Once the classifier has been trained we can query its accuracy. \n",
    "\n",
    "Accuracy is defined as:\n",
    "\n",
    "\\begin{equation*}\n",
    "Accuracy = \\frac{Correct Predictions}{Total Number of Predictions}\n",
    "\\end{equation*}\n",
    "\n",
    "This can be further defined as:\n",
    "\n",
    "\\begin{equation*}\n",
    "Accuracy = \\frac{TP + TN}{TP + TN + FP + FN}\n",
    "\\end{equation*}\n",
    "\n",
    "The accuracy of this classifier with this training data is 95%."
   ]
  },
  {
   "cell_type": "code",
   "execution_count": 8,
   "metadata": {},
   "outputs": [
    {
     "name": "stdout",
     "output_type": "stream",
     "text": [
      "Accuracy of the training set is 1.0\n"
     ]
    }
   ],
   "source": [
    "classifier = DecisionTreeClassifier()\n",
    "classifier.fit(X_train, y_train)\n",
    "\n",
    "print(f'Accuracy of the training set is {classifier.score(X_train, y_train)}')"
   ]
  },
  {
   "cell_type": "markdown",
   "metadata": {},
   "source": [
    "## Predict\n",
    "\n",
    "Once the classifer is trained with the training data, we can use it to predict the outcome of the samples in the test data."
   ]
  },
  {
   "cell_type": "code",
   "execution_count": 9,
   "metadata": {},
   "outputs": [
    {
     "name": "stdout",
     "output_type": "stream",
     "text": [
      "Classifier Predictions\n",
      "benign: 108\n",
      "malignant: 81\n",
      "\n",
      "Actual\n",
      "benign: 119\n",
      "malignant: 70\n"
     ]
    }
   ],
   "source": [
    "predictions = classifier.predict(X_test)\n",
    "\n",
    "print('Classifier Predictions')\n",
    "print(f'benign: {len(predictions[predictions==1])}')\n",
    "print(f'malignant: {len(predictions[predictions==0])}\\n')\n",
    "\n",
    "print('Actual')\n",
    "print(f'benign: {len(y_test[y_test==1])}')\n",
    "print(f'malignant: {len(y_test[y_test==0])}')\n"
   ]
  },
  {
   "cell_type": "markdown",
   "metadata": {},
   "source": [
    "## ROC Data\n",
    "\n",
    "A ROC curve is another way to assess the accuracy of a classifier. First we ask the classifier to produce a probability of each test sample being benign and malignant.  Then we calculate the False Positive Rate (FPR) and True Positive Rate (TPR).  \n",
    "\n",
    "\\begin{equation*}\n",
    "TPR = \\frac{Number of True Positives}{Total Number of Malignant Samples}\n",
    "\\end{equation*}\n",
    "\n",
    "\\begin{equation*}\n",
    "FPR = \\frac{Number of False Positives}{Total Number of Benign Samples}\n",
    "\\end{equation*}\n",
    "\n",
    "These rates are calculated at different threshold values.  Using all threshold values and all tprs and fprs an area under the curve value is calculated.  The closer to 1, the more accurate the classifier and training data are."
   ]
  },
  {
   "cell_type": "code",
   "execution_count": 10,
   "metadata": {},
   "outputs": [
    {
     "name": "stdout",
     "output_type": "stream",
     "text": [
      "Area Under Curve is 0.92\n"
     ]
    }
   ],
   "source": [
    "result_proba = classifier.predict_proba(X_test)\n",
    "fpr, tpr, threshold = metrics.roc_curve(y_test, result_proba[:, 1])\n",
    "roc_auc = metrics.auc(fpr, tpr)\n",
    "\n",
    "print(f'Area Under Curve is {\"%.2f\" % roc_auc}')"
   ]
  },
  {
   "cell_type": "markdown",
   "metadata": {},
   "source": [
    "## ROC Graph\n",
    "\n",
    "Lets produce a ROC graph. An AUC line shows the TPR and FPR and various threshold values.  The optimum threshold value is shown with the best TPR and FPR.  An AUC line that is closet to the top left corner demonstrates the best detection results."
   ]
  },
  {
   "cell_type": "code",
   "execution_count": 11,
   "metadata": {},
   "outputs": [
    {
     "data": {
      "image/png": "[encoded data removed]",
      "text/plain": [
       "<matplotlib.figure.Figure at 0x109d3c940>"
      ]
     },
     "metadata": {
      "needs_background": "light"
     },
     "output_type": "display_data"
    }
   ],
   "source": [
    "# Function to calculate the optimum threshold value\n",
    "def optimum_threshold(tpr, fpr, threshold):\n",
    "    values = {}\n",
    "    for i in range(len(tpr)):\n",
    "        values[tpr[i] + (1-fpr[i])] = {'tpr': tpr[i], 'fpr': fpr[i], 'optimum': threshold[i]}\n",
    "\n",
    "    sorted_keys = sorted(values.keys(), reverse=True)\n",
    "    best_data = values[sorted_keys[0]]\n",
    "    return {'fpr': best_data['fpr'], 'tpr': best_data['tpr'], 'optimum': best_data['optimum']}\n",
    "\n",
    "optimum = optimum_threshold(tpr, fpr, threshold)\n",
    "\n",
    "# Plot the ROC Graph\n",
    "pyplot.plot(fpr, tpr, lw=2, alpha=1, label='AUC = %0.2f' % roc_auc)\n",
    "\n",
    "# Optimum Threshold\n",
    "pyplot.plot([optimum['fpr']], [optimum['tpr']], marker='o', markersize=10, color='g', label='Optimum Threshold = %0.2f' % optimum[\"optimum\"], alpha=.8)\n",
    "\n",
    "# Chance\n",
    "pyplot.plot([0, 1], [0, 1], linestyle='--', lw=2, color='r', label='Chance', alpha=.8)\n",
    "\n",
    "pyplot.xlabel(\"False Positive Rate\")\n",
    "pyplot.ylabel(\"True Positive Rate\")\n",
    "pyplot.title(f'ROC Curve {type(classifier).__name__}')\n",
    "pyplot.legend()\n",
    "pyplot.grid()\n",
    "pyplot.show()\n"
   ]
  },
  {
   "cell_type": "markdown",
   "metadata": {},
   "source": [
    "## Optimum TP and FP Rates\n",
    "\n",
    "The optimum TP and FP rates appear at the optimum threshold value."
   ]
  },
  {
   "cell_type": "code",
   "execution_count": 12,
   "metadata": {},
   "outputs": [
    {
     "name": "stdout",
     "output_type": "stream",
     "text": [
      "True Positive Rate 0.88\n",
      "\n",
      "False Positive Rate 0.04\n",
      "\n",
      "Optimum Threshold 1.00\n"
     ]
    }
   ],
   "source": [
    "print(f'True Positive Rate {\"%.2f\" % optimum[\"tpr\"]}\\n')\n",
    "      \n",
    "print(f'False Positive Rate {\"%.2f\" % optimum[\"fpr\"]}\\n')\n",
    "\n",
    "print(f'Optimum Threshold {\"%.2f\" % optimum[\"optimum\"]}')"
   ]
  }
 ],
 "metadata": {
  "kernelspec": {
   "display_name": "Python 3",
   "language": "python",
   "name": "python3"
  },
  "language_info": {
   "codemirror_mode": {
    "name": "ipython",
    "version": 3
   },
   "file_extension": ".py",
   "mimetype": "text/x-python",
   "name": "python",
   "nbconvert_exporter": "python",
   "pygments_lexer": "ipython3",
   "version": "3.7.0"
  }
 },
 "nbformat": 4,
 "nbformat_minor": 1
}
